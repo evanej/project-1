{
 "cells": [
  {
   "cell_type": "code",
   "execution_count": 2,
   "metadata": {
    "scrolled": true
   },
   "outputs": [],
   "source": [
    "%matplotlib inline\n",
    "# Dependencies and Setup\n",
    "import matplotlib.pyplot as plt\n",
    "import pandas as pd\n",
    "import numpy as np\n",
    "\n",
    "# File to Load (Remember to change these)\n",
    "#energy_data = \"Data files/duke_energy_2010.csv\"\n",
    "#mean_med_income = \"Data files/ACS_11_5YR_S1901_with_ann.csv\"\n",
    "\n",
    "households = pd.read_csv(\"Data/duke_energy_2010.csv\")\n",
    "#households.columns.values\n",
    "census_data = pd.read_csv(\"Data/ACS_11_5YR_S1901_with_ann.csv\")"
   ]
  },
  {
   "cell_type": "code",
   "execution_count": 3,
   "metadata": {
    "scrolled": true
   },
   "outputs": [],
   "source": [
    "census_zip_med_mean = census_data[[\"GEO.id2\",\"HC01_EST_VC13\",\"HC01_EST_VC15\"]]\n",
    "household_id_and_zip = households[[\"SAMPLE_ID\",\"SAMPLE_PREMISE_ZIP\"]]"
   ]
  },
  {
   "cell_type": "code",
   "execution_count": 4,
   "metadata": {
    "scrolled": false
   },
   "outputs": [],
   "source": [
    "census_zip_med_mean = census_zip_med_mean.rename(columns={\"GEO.id2\":\"ZIP_Code\", \\\n",
    "                                                       \"HC01_EST_VC13\":\"Median_Income\",\\\n",
    "                                                       \"HC01_EST_VC15\":\"Mean_Income\"})\n",
    "\n",
    "census_zip_med_mean['ZIP_Code'] = census_zip_med_mean.ZIP_Code.astype('str')\n",
    "census_zip_med_mean.drop([0])\n",
    "\n",
    "#zip_med_mean.head()\n",
    "\n",
    "household_id_and_zip = household_id_and_zip.rename(columns={\"SAMPLE_ID\":\"Sample_ID\", \\\n",
    "                                                           \"SAMPLE_PREMISE_ZIP\":\"ZIP_Code\"})\n",
    "household_id_and_zip['ZIP_Code'] = household_id_and_zip.ZIP_Code.astype('str')"
   ]
  },
  {
   "cell_type": "code",
   "execution_count": 5,
   "metadata": {},
   "outputs": [
    {
     "name": "stderr",
     "output_type": "stream",
     "text": [
      "C:\\Users\\MainUser\\anaconda\\Anaconda3\\envs\\PythonData\\lib\\site-packages\\ipykernel_launcher.py:4: SettingWithCopyWarning: \n",
      "A value is trying to be set on a copy of a slice from a DataFrame\n",
      "\n",
      "See the caveats in the documentation: http://pandas.pydata.org/pandas-docs/stable/indexing.html#indexing-view-versus-copy\n",
      "  after removing the cwd from sys.path.\n"
     ]
    }
   ],
   "source": [
    "#household_id_and_zip['ZIP_Code']\n",
    "\n",
    "# This will run for about 5 minutes\n",
    "for row in range(0,len(household_id_and_zip[\"ZIP_Code\"])):\n",
    "    if len(household_id_and_zip[\"ZIP_Code\"][row]) > 5:\n",
    "        household_id_and_zip[\"ZIP_Code\"][row] = household_id_and_zip[\"ZIP_Code\"][row][:5]\n",
    "    \n",
    "#household_id_and_zip.to_csv(\"kb_household.csv\")"
   ]
  },
  {
   "cell_type": "code",
   "execution_count": 8,
   "metadata": {
    "scrolled": true
   },
   "outputs": [
    {
     "name": "stdout",
     "output_type": "stream",
     "text": [
      "4688\n"
     ]
    }
   ],
   "source": [
    "merge_table = pd.merge(household_id_and_zip, census_zip_med_mean, on=\"ZIP_Code\", how=\"inner\")\n",
    "print(str(len(merge_table)))\n",
    "merge_table.to_csv(\"Data/2011_income_by_zipcode.csv\")"
   ]
  },
  {
   "cell_type": "code",
   "execution_count": null,
   "metadata": {},
   "outputs": [],
   "source": []
  }
 ],
 "metadata": {
  "kernelspec": {
   "display_name": "Python 3",
   "language": "python",
   "name": "python3"
  },
  "language_info": {
   "codemirror_mode": {
    "name": "ipython",
    "version": 3
   },
   "file_extension": ".py",
   "mimetype": "text/x-python",
   "name": "python",
   "nbconvert_exporter": "python",
   "pygments_lexer": "ipython3",
   "version": "3.6.8"
  }
 },
 "nbformat": 4,
 "nbformat_minor": 2
}
